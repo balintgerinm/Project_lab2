{
  "nbformat": 4,
  "nbformat_minor": 0,
  "metadata": {
    "colab": {
      "provenance": [],
      "gpuType": "T4"
    },
    "kernelspec": {
      "name": "python3",
      "display_name": "Python 3"
    },
    "language_info": {
      "name": "python"
    },
    "accelerator": "GPU",
    "widgets": {
      "application/vnd.jupyter.widget-state+json": {
        "84c28623add1434bb5e4612212fe03ad": {
          "model_module": "@jupyter-widgets/controls",
          "model_name": "VBoxModel",
          "model_module_version": "1.5.0",
          "state": {
            "_dom_classes": [],
            "_model_module": "@jupyter-widgets/controls",
            "_model_module_version": "1.5.0",
            "_model_name": "VBoxModel",
            "_view_count": null,
            "_view_module": "@jupyter-widgets/controls",
            "_view_module_version": "1.5.0",
            "_view_name": "VBoxView",
            "box_style": "",
            "children": [
              "IPY_MODEL_b4c190cbaaa9431c8beaf976d3c2a4b7",
              "IPY_MODEL_23d4e8e8c1d74bf5bbc3b552d9d03d8e"
            ],
            "layout": "IPY_MODEL_dc5bd28ff7ad449484d17e84e3c38d33"
          }
        },
        "b4c190cbaaa9431c8beaf976d3c2a4b7": {
          "model_module": "@jupyter-widgets/controls",
          "model_name": "LabelModel",
          "model_module_version": "1.5.0",
          "state": {
            "_dom_classes": [],
            "_model_module": "@jupyter-widgets/controls",
            "_model_module_version": "1.5.0",
            "_model_name": "LabelModel",
            "_view_count": null,
            "_view_module": "@jupyter-widgets/controls",
            "_view_module_version": "1.5.0",
            "_view_name": "LabelView",
            "description": "",
            "description_tooltip": null,
            "layout": "IPY_MODEL_d6ed30ffa8dd44ac8902e9ed561da4dc",
            "placeholder": "​",
            "style": "IPY_MODEL_a18bb5645f4040ada11487913b71649c",
            "value": "0.010 MB of 0.010 MB uploaded\r"
          }
        },
        "23d4e8e8c1d74bf5bbc3b552d9d03d8e": {
          "model_module": "@jupyter-widgets/controls",
          "model_name": "FloatProgressModel",
          "model_module_version": "1.5.0",
          "state": {
            "_dom_classes": [],
            "_model_module": "@jupyter-widgets/controls",
            "_model_module_version": "1.5.0",
            "_model_name": "FloatProgressModel",
            "_view_count": null,
            "_view_module": "@jupyter-widgets/controls",
            "_view_module_version": "1.5.0",
            "_view_name": "ProgressView",
            "bar_style": "",
            "description": "",
            "description_tooltip": null,
            "layout": "IPY_MODEL_a09811ee82b14f0eac7c24eda9ce563b",
            "max": 1,
            "min": 0,
            "orientation": "horizontal",
            "style": "IPY_MODEL_d44c5d7072c34d1ca871d7526480f13d",
            "value": 1
          }
        },
        "dc5bd28ff7ad449484d17e84e3c38d33": {
          "model_module": "@jupyter-widgets/base",
          "model_name": "LayoutModel",
          "model_module_version": "1.2.0",
          "state": {
            "_model_module": "@jupyter-widgets/base",
            "_model_module_version": "1.2.0",
            "_model_name": "LayoutModel",
            "_view_count": null,
            "_view_module": "@jupyter-widgets/base",
            "_view_module_version": "1.2.0",
            "_view_name": "LayoutView",
            "align_content": null,
            "align_items": null,
            "align_self": null,
            "border": null,
            "bottom": null,
            "display": null,
            "flex": null,
            "flex_flow": null,
            "grid_area": null,
            "grid_auto_columns": null,
            "grid_auto_flow": null,
            "grid_auto_rows": null,
            "grid_column": null,
            "grid_gap": null,
            "grid_row": null,
            "grid_template_areas": null,
            "grid_template_columns": null,
            "grid_template_rows": null,
            "height": null,
            "justify_content": null,
            "justify_items": null,
            "left": null,
            "margin": null,
            "max_height": null,
            "max_width": null,
            "min_height": null,
            "min_width": null,
            "object_fit": null,
            "object_position": null,
            "order": null,
            "overflow": null,
            "overflow_x": null,
            "overflow_y": null,
            "padding": null,
            "right": null,
            "top": null,
            "visibility": null,
            "width": null
          }
        },
        "d6ed30ffa8dd44ac8902e9ed561da4dc": {
          "model_module": "@jupyter-widgets/base",
          "model_name": "LayoutModel",
          "model_module_version": "1.2.0",
          "state": {
            "_model_module": "@jupyter-widgets/base",
            "_model_module_version": "1.2.0",
            "_model_name": "LayoutModel",
            "_view_count": null,
            "_view_module": "@jupyter-widgets/base",
            "_view_module_version": "1.2.0",
            "_view_name": "LayoutView",
            "align_content": null,
            "align_items": null,
            "align_self": null,
            "border": null,
            "bottom": null,
            "display": null,
            "flex": null,
            "flex_flow": null,
            "grid_area": null,
            "grid_auto_columns": null,
            "grid_auto_flow": null,
            "grid_auto_rows": null,
            "grid_column": null,
            "grid_gap": null,
            "grid_row": null,
            "grid_template_areas": null,
            "grid_template_columns": null,
            "grid_template_rows": null,
            "height": null,
            "justify_content": null,
            "justify_items": null,
            "left": null,
            "margin": null,
            "max_height": null,
            "max_width": null,
            "min_height": null,
            "min_width": null,
            "object_fit": null,
            "object_position": null,
            "order": null,
            "overflow": null,
            "overflow_x": null,
            "overflow_y": null,
            "padding": null,
            "right": null,
            "top": null,
            "visibility": null,
            "width": null
          }
        },
        "a18bb5645f4040ada11487913b71649c": {
          "model_module": "@jupyter-widgets/controls",
          "model_name": "DescriptionStyleModel",
          "model_module_version": "1.5.0",
          "state": {
            "_model_module": "@jupyter-widgets/controls",
            "_model_module_version": "1.5.0",
            "_model_name": "DescriptionStyleModel",
            "_view_count": null,
            "_view_module": "@jupyter-widgets/base",
            "_view_module_version": "1.2.0",
            "_view_name": "StyleView",
            "description_width": ""
          }
        },
        "a09811ee82b14f0eac7c24eda9ce563b": {
          "model_module": "@jupyter-widgets/base",
          "model_name": "LayoutModel",
          "model_module_version": "1.2.0",
          "state": {
            "_model_module": "@jupyter-widgets/base",
            "_model_module_version": "1.2.0",
            "_model_name": "LayoutModel",
            "_view_count": null,
            "_view_module": "@jupyter-widgets/base",
            "_view_module_version": "1.2.0",
            "_view_name": "LayoutView",
            "align_content": null,
            "align_items": null,
            "align_self": null,
            "border": null,
            "bottom": null,
            "display": null,
            "flex": null,
            "flex_flow": null,
            "grid_area": null,
            "grid_auto_columns": null,
            "grid_auto_flow": null,
            "grid_auto_rows": null,
            "grid_column": null,
            "grid_gap": null,
            "grid_row": null,
            "grid_template_areas": null,
            "grid_template_columns": null,
            "grid_template_rows": null,
            "height": null,
            "justify_content": null,
            "justify_items": null,
            "left": null,
            "margin": null,
            "max_height": null,
            "max_width": null,
            "min_height": null,
            "min_width": null,
            "object_fit": null,
            "object_position": null,
            "order": null,
            "overflow": null,
            "overflow_x": null,
            "overflow_y": null,
            "padding": null,
            "right": null,
            "top": null,
            "visibility": null,
            "width": null
          }
        },
        "d44c5d7072c34d1ca871d7526480f13d": {
          "model_module": "@jupyter-widgets/controls",
          "model_name": "ProgressStyleModel",
          "model_module_version": "1.5.0",
          "state": {
            "_model_module": "@jupyter-widgets/controls",
            "_model_module_version": "1.5.0",
            "_model_name": "ProgressStyleModel",
            "_view_count": null,
            "_view_module": "@jupyter-widgets/base",
            "_view_module_version": "1.2.0",
            "_view_name": "StyleView",
            "bar_color": null,
            "description_width": ""
          }
        }
      }
    }
  },
  "cells": [
    {
      "cell_type": "code",
      "execution_count": 1,
      "metadata": {
        "colab": {
          "base_uri": "https://localhost:8080/"
        },
        "id": "4scKH5A-CnVC",
        "outputId": "f09fd25c-1254-4b05-924e-6dd04f16aed9"
      },
      "outputs": [
        {
          "output_type": "stream",
          "name": "stdout",
          "text": [
            "Found existing installation: torch-scatter 2.1.2+pt21cu118\n",
            "Uninstalling torch-scatter-2.1.2+pt21cu118:\n",
            "  Successfully uninstalled torch-scatter-2.1.2+pt21cu118\n",
            "Found existing installation: torch-sparse 0.6.18+pt21cu118\n",
            "Uninstalling torch-sparse-0.6.18+pt21cu118:\n",
            "  Successfully uninstalled torch-sparse-0.6.18+pt21cu118\n",
            "Found existing installation: torch_geometric 2.4.0\n",
            "Uninstalling torch_geometric-2.4.0:\n",
            "  Successfully uninstalled torch_geometric-2.4.0\n",
            "Found existing installation: torch-cluster 1.6.3+pt21cu118\n",
            "Uninstalling torch-cluster-1.6.3+pt21cu118:\n",
            "  Successfully uninstalled torch-cluster-1.6.3+pt21cu118\n",
            "Looking in links: https://data.pyg.org/whl/torch-2.1.0+cu118.html\n",
            "Collecting torch-scatter\n",
            "  Using cached https://data.pyg.org/whl/torch-2.1.0%2Bcu118/torch_scatter-2.1.2%2Bpt21cu118-cp310-cp310-linux_x86_64.whl (10.2 MB)\n",
            "Installing collected packages: torch-scatter\n",
            "Successfully installed torch-scatter-2.1.2+pt21cu118\n",
            "Looking in links: https://data.pyg.org/whl/torch-2.1.0+cu118.html\n",
            "Collecting torch-sparse\n",
            "  Using cached https://data.pyg.org/whl/torch-2.1.0%2Bcu118/torch_sparse-0.6.18%2Bpt21cu118-cp310-cp310-linux_x86_64.whl (4.9 MB)\n",
            "Requirement already satisfied: scipy in /usr/local/lib/python3.10/dist-packages (from torch-sparse) (1.11.3)\n",
            "Requirement already satisfied: numpy<1.28.0,>=1.21.6 in /usr/local/lib/python3.10/dist-packages (from scipy->torch-sparse) (1.23.5)\n",
            "Installing collected packages: torch-sparse\n",
            "Successfully installed torch-sparse-0.6.18+pt21cu118\n",
            "Looking in links: https://data.pyg.org/whl/torch-2.1.0+cu118.html\n",
            "Collecting torch-cluster\n",
            "  Using cached https://data.pyg.org/whl/torch-2.1.0%2Bcu118/torch_cluster-1.6.3%2Bpt21cu118-cp310-cp310-linux_x86_64.whl (3.3 MB)\n",
            "Requirement already satisfied: scipy in /usr/local/lib/python3.10/dist-packages (from torch-cluster) (1.11.3)\n",
            "Requirement already satisfied: numpy<1.28.0,>=1.21.6 in /usr/local/lib/python3.10/dist-packages (from scipy->torch-cluster) (1.23.5)\n",
            "Installing collected packages: torch-cluster\n",
            "Successfully installed torch-cluster-1.6.3+pt21cu118\n",
            "Collecting torch-geometric\n",
            "  Using cached torch_geometric-2.4.0-py3-none-any.whl (1.0 MB)\n",
            "Requirement already satisfied: tqdm in /usr/local/lib/python3.10/dist-packages (from torch-geometric) (4.66.1)\n",
            "Requirement already satisfied: numpy in /usr/local/lib/python3.10/dist-packages (from torch-geometric) (1.23.5)\n",
            "Requirement already satisfied: scipy in /usr/local/lib/python3.10/dist-packages (from torch-geometric) (1.11.3)\n",
            "Requirement already satisfied: jinja2 in /usr/local/lib/python3.10/dist-packages (from torch-geometric) (3.1.2)\n",
            "Requirement already satisfied: requests in /usr/local/lib/python3.10/dist-packages (from torch-geometric) (2.31.0)\n",
            "Requirement already satisfied: pyparsing in /usr/local/lib/python3.10/dist-packages (from torch-geometric) (3.1.1)\n",
            "Requirement already satisfied: scikit-learn in /usr/local/lib/python3.10/dist-packages (from torch-geometric) (1.2.2)\n",
            "Requirement already satisfied: psutil>=5.8.0 in /usr/local/lib/python3.10/dist-packages (from torch-geometric) (5.9.5)\n",
            "Requirement already satisfied: MarkupSafe>=2.0 in /usr/local/lib/python3.10/dist-packages (from jinja2->torch-geometric) (2.1.3)\n",
            "Requirement already satisfied: charset-normalizer<4,>=2 in /usr/local/lib/python3.10/dist-packages (from requests->torch-geometric) (3.3.2)\n",
            "Requirement already satisfied: idna<4,>=2.5 in /usr/local/lib/python3.10/dist-packages (from requests->torch-geometric) (3.4)\n",
            "Requirement already satisfied: urllib3<3,>=1.21.1 in /usr/local/lib/python3.10/dist-packages (from requests->torch-geometric) (2.0.7)\n",
            "Requirement already satisfied: certifi>=2017.4.17 in /usr/local/lib/python3.10/dist-packages (from requests->torch-geometric) (2023.7.22)\n",
            "Requirement already satisfied: joblib>=1.1.1 in /usr/local/lib/python3.10/dist-packages (from scikit-learn->torch-geometric) (1.3.2)\n",
            "Requirement already satisfied: threadpoolctl>=2.0.0 in /usr/local/lib/python3.10/dist-packages (from scikit-learn->torch-geometric) (3.2.0)\n",
            "Installing collected packages: torch-geometric\n",
            "Successfully installed torch-geometric-2.4.0\n"
          ]
        }
      ],
      "source": [
        "## IMPORTS\n",
        "import torch\n",
        "\n",
        "!pip uninstall torch-scatter torch-sparse torch-geometric torch-cluster  --y\n",
        "!pip install torch-scatter -f https://data.pyg.org/whl/torch-{torch.__version__}.html\n",
        "!pip install torch-sparse -f https://data.pyg.org/whl/torch-{torch.__version__}.html\n",
        "!pip install torch-cluster -f https://data.pyg.org/whl/torch-{torch.__version__}.html\n",
        "!pip install torch-geometric\n",
        "\n",
        "!pip freeze > requirements.txt\n",
        "!pip list --format=freeze > requirements.txt"
      ]
    },
    {
      "cell_type": "code",
      "source": [
        "import torch\n",
        "import torch.nn as nn\n",
        "import torch.optim as optim\n",
        "from torch_geometric.nn import Node2Vec\n",
        "from torch_geometric.datasets import Planetoid\n",
        "from torch_geometric.utils import to_networkx\n",
        "from tqdm import tqdm\n",
        "from sklearn.manifold import TSNE\n",
        "import matplotlib.pyplot as plt\n",
        "import numpy as np\n",
        "from sklearn.metrics import roc_curve, roc_auc_score, auc\n",
        "from sklearn.preprocessing import MinMaxScaler\n",
        "import pandas as pd\n",
        "\n",
        "dataset = Planetoid(root='./data', name='Cora')  # Itt 'Cora' helyett használhatsz másik Planetoid adathalmazt is.\n",
        "data = dataset[0]"
      ],
      "metadata": {
        "id": "IuoGoAjDUopX"
      },
      "execution_count": 2,
      "outputs": []
    },
    {
      "cell_type": "code",
      "source": [
        "## PARAMETERS\n",
        "embedding_dim = 128\n",
        "walk_length=80\n",
        "context_size=10\n",
        "walks_per_node=10\n",
        "num_negative_samples=1\n",
        "p=0.5\n",
        "q=0.5\n",
        "\n",
        "lr=0.05\n",
        "epochs=50\n",
        "batch_size=64"
      ],
      "metadata": {
        "id": "844JZLxIUt_k"
      },
      "execution_count": 3,
      "outputs": []
    },
    {
      "cell_type": "code",
      "source": [
        "!pip install wandb\n",
        "import wandb\n",
        "wandb.login()"
      ],
      "metadata": {
        "colab": {
          "base_uri": "https://localhost:8080/"
        },
        "id": "CF05KTrOXYXn",
        "outputId": "9d3b2f8d-7f36-41b8-fde5-3e9b499abcdd"
      },
      "execution_count": 4,
      "outputs": [
        {
          "output_type": "stream",
          "name": "stdout",
          "text": [
            "Requirement already satisfied: wandb in /usr/local/lib/python3.10/dist-packages (0.16.0)\n",
            "Requirement already satisfied: Click!=8.0.0,>=7.1 in /usr/local/lib/python3.10/dist-packages (from wandb) (8.1.7)\n",
            "Requirement already satisfied: GitPython!=3.1.29,>=1.0.0 in /usr/local/lib/python3.10/dist-packages (from wandb) (3.1.40)\n",
            "Requirement already satisfied: requests<3,>=2.0.0 in /usr/local/lib/python3.10/dist-packages (from wandb) (2.31.0)\n",
            "Requirement already satisfied: psutil>=5.0.0 in /usr/local/lib/python3.10/dist-packages (from wandb) (5.9.5)\n",
            "Requirement already satisfied: sentry-sdk>=1.0.0 in /usr/local/lib/python3.10/dist-packages (from wandb) (1.35.0)\n",
            "Requirement already satisfied: docker-pycreds>=0.4.0 in /usr/local/lib/python3.10/dist-packages (from wandb) (0.4.0)\n",
            "Requirement already satisfied: PyYAML in /usr/local/lib/python3.10/dist-packages (from wandb) (6.0.1)\n",
            "Requirement already satisfied: setproctitle in /usr/local/lib/python3.10/dist-packages (from wandb) (1.3.3)\n",
            "Requirement already satisfied: setuptools in /usr/local/lib/python3.10/dist-packages (from wandb) (67.7.2)\n",
            "Requirement already satisfied: appdirs>=1.4.3 in /usr/local/lib/python3.10/dist-packages (from wandb) (1.4.4)\n",
            "Requirement already satisfied: protobuf!=4.21.0,<5,>=3.19.0 in /usr/local/lib/python3.10/dist-packages (from wandb) (3.20.3)\n",
            "Requirement already satisfied: six>=1.4.0 in /usr/local/lib/python3.10/dist-packages (from docker-pycreds>=0.4.0->wandb) (1.16.0)\n",
            "Requirement already satisfied: gitdb<5,>=4.0.1 in /usr/local/lib/python3.10/dist-packages (from GitPython!=3.1.29,>=1.0.0->wandb) (4.0.11)\n",
            "Requirement already satisfied: charset-normalizer<4,>=2 in /usr/local/lib/python3.10/dist-packages (from requests<3,>=2.0.0->wandb) (3.3.2)\n",
            "Requirement already satisfied: idna<4,>=2.5 in /usr/local/lib/python3.10/dist-packages (from requests<3,>=2.0.0->wandb) (3.4)\n",
            "Requirement already satisfied: urllib3<3,>=1.21.1 in /usr/local/lib/python3.10/dist-packages (from requests<3,>=2.0.0->wandb) (2.0.7)\n",
            "Requirement already satisfied: certifi>=2017.4.17 in /usr/local/lib/python3.10/dist-packages (from requests<3,>=2.0.0->wandb) (2023.7.22)\n",
            "Requirement already satisfied: smmap<6,>=3.0.1 in /usr/local/lib/python3.10/dist-packages (from gitdb<5,>=4.0.1->GitPython!=3.1.29,>=1.0.0->wandb) (5.0.1)\n"
          ]
        },
        {
          "output_type": "stream",
          "name": "stderr",
          "text": [
            "\u001b[34m\u001b[1mwandb\u001b[0m: Currently logged in as: \u001b[33mbalintgerinm\u001b[0m. Use \u001b[1m`wandb login --relogin`\u001b[0m to force relogin\n"
          ]
        },
        {
          "output_type": "execute_result",
          "data": {
            "text/plain": [
              "True"
            ]
          },
          "metadata": {},
          "execution_count": 4
        }
      ]
    },
    {
      "cell_type": "code",
      "source": [
        "device = 'cuda' if torch.cuda.is_available() else 'cpu'\n",
        "\n",
        "# Create the Node2Vec model\n",
        "model = Node2Vec(data.edge_index, embedding_dim, walk_length=walk_length, context_size=context_size,\n",
        "                 walks_per_node=walks_per_node, num_negative_samples=num_negative_samples, p=p, q=q, sparse=True).to(device)\n",
        "\n",
        "# Initialize the SGD optimizer with momentum\n",
        "loader = model.loader(batch_size=batch_size, shuffle=True, num_workers=0)\n",
        "optimizer = torch.optim.SparseAdam(list(model.parameters()), lr=lr)\n",
        "\n",
        "print(model)"
      ],
      "metadata": {
        "colab": {
          "base_uri": "https://localhost:8080/"
        },
        "id": "7OKAxvalfQQd",
        "outputId": "56cfbac6-dc35-4945-bc39-b553171d24ad"
      },
      "execution_count": 5,
      "outputs": [
        {
          "output_type": "stream",
          "name": "stdout",
          "text": [
            "Node2Vec(2708, 128)\n"
          ]
        }
      ]
    },
    {
      "cell_type": "code",
      "source": [
        "def train():\n",
        "    model.train()\n",
        "    total_loss = 0\n",
        "    for pos_rw, neg_rw in loader:\n",
        "        optimizer.zero_grad()\n",
        "        loss = model.loss(pos_rw.to(device), neg_rw.to(device))\n",
        "        loss.backward()\n",
        "        optimizer.step()\n",
        "        total_loss += loss.item()\n",
        "    return total_loss / len(loader)\n",
        "\n",
        "@torch.no_grad()\n",
        "def test():\n",
        "    model.eval()\n",
        "    z = model()\n",
        "    acc = model.test(z[data.train_mask], data.y[data.train_mask], z[data.test_mask], data.y[data.test_mask], max_iter=150)\n",
        "    return acc\n",
        "\n",
        "@torch.no_grad()\n",
        "def plot_points(colors):\n",
        "    model.eval()\n",
        "    z = model(torch.arange(data.num_nodes, device=device))\n",
        "    z = TSNE(n_components=2).fit_transform(z.cpu().numpy())\n",
        "    y = data.y.cpu().numpy()\n",
        "\n",
        "    plt.figure(figsize=(10, 10))\n",
        "    for i in range(dataset.num_classes):\n",
        "        plt.scatter(z[y == i, 0], z[y == i, 1], s=20, color=colors[i])\n",
        "    plt.axis('off')\n",
        "    plt.title(f'embs_p {p}_q {q}_size {embedding_dim}')\n",
        "    plt.savefig(f'embs_p {p}_q {q}_size {embedding_dim}.jpg')\n",
        "    plt.show()"
      ],
      "metadata": {
        "id": "5U7tLqKBVI4I"
      },
      "execution_count": 6,
      "outputs": []
    },
    {
      "cell_type": "code",
      "source": [
        "wandb.init(project=\"project_lab2_node2vec\")\n",
        "for epoch in tqdm(range(epochs)):\n",
        "    loss = train()\n",
        "    acc = test()\n",
        "    wandb.log({\"Loss\": loss, \"Acc\": acc, \"Epoch\": epoch + 1})\n",
        "wandb.finish()"
      ],
      "metadata": {
        "colab": {
          "base_uri": "https://localhost:8080/",
          "height": 336,
          "referenced_widgets": [
            "84c28623add1434bb5e4612212fe03ad",
            "b4c190cbaaa9431c8beaf976d3c2a4b7",
            "23d4e8e8c1d74bf5bbc3b552d9d03d8e",
            "dc5bd28ff7ad449484d17e84e3c38d33",
            "d6ed30ffa8dd44ac8902e9ed561da4dc",
            "a18bb5645f4040ada11487913b71649c",
            "a09811ee82b14f0eac7c24eda9ce563b",
            "d44c5d7072c34d1ca871d7526480f13d"
          ]
        },
        "id": "w9T2p27UrNAW",
        "outputId": "5a11b486-94e0-4f7c-805f-64a2f2eb7409"
      },
      "execution_count": 7,
      "outputs": [
        {
          "output_type": "display_data",
          "data": {
            "text/plain": [
              "<IPython.core.display.HTML object>"
            ],
            "text/html": [
              "Tracking run with wandb version 0.16.0"
            ]
          },
          "metadata": {}
        },
        {
          "output_type": "display_data",
          "data": {
            "text/plain": [
              "<IPython.core.display.HTML object>"
            ],
            "text/html": [
              "Run data is saved locally in <code>/content/wandb/run-20231117_005040-4j74kmtt</code>"
            ]
          },
          "metadata": {}
        },
        {
          "output_type": "display_data",
          "data": {
            "text/plain": [
              "<IPython.core.display.HTML object>"
            ],
            "text/html": [
              "Syncing run <strong><a href='https://wandb.ai/balintgerinm/project_lab2_node2vec/runs/4j74kmtt' target=\"_blank\">vibrant-wood-4</a></strong> to <a href='https://wandb.ai/balintgerinm/project_lab2_node2vec' target=\"_blank\">Weights & Biases</a> (<a href='https://wandb.me/run' target=\"_blank\">docs</a>)<br/>"
            ]
          },
          "metadata": {}
        },
        {
          "output_type": "display_data",
          "data": {
            "text/plain": [
              "<IPython.core.display.HTML object>"
            ],
            "text/html": [
              " View project at <a href='https://wandb.ai/balintgerinm/project_lab2_node2vec' target=\"_blank\">https://wandb.ai/balintgerinm/project_lab2_node2vec</a>"
            ]
          },
          "metadata": {}
        },
        {
          "output_type": "display_data",
          "data": {
            "text/plain": [
              "<IPython.core.display.HTML object>"
            ],
            "text/html": [
              " View run at <a href='https://wandb.ai/balintgerinm/project_lab2_node2vec/runs/4j74kmtt' target=\"_blank\">https://wandb.ai/balintgerinm/project_lab2_node2vec/runs/4j74kmtt</a>"
            ]
          },
          "metadata": {}
        },
        {
          "output_type": "stream",
          "name": "stderr",
          "text": [
            "100%|██████████| 50/50 [01:25<00:00,  1.70s/it]\n"
          ]
        },
        {
          "output_type": "display_data",
          "data": {
            "text/plain": [
              "VBox(children=(Label(value='0.001 MB of 0.001 MB uploaded\\r'), FloatProgress(value=1.0, max=1.0)))"
            ],
            "application/vnd.jupyter.widget-view+json": {
              "version_major": 2,
              "version_minor": 0,
              "model_id": "84c28623add1434bb5e4612212fe03ad"
            }
          },
          "metadata": {}
        },
        {
          "output_type": "display_data",
          "data": {
            "text/plain": [
              "<IPython.core.display.HTML object>"
            ],
            "text/html": [
              "<style>\n",
              "    table.wandb td:nth-child(1) { padding: 0 10px; text-align: left ; width: auto;} td:nth-child(2) {text-align: left ; width: 100%}\n",
              "    .wandb-row { display: flex; flex-direction: row; flex-wrap: wrap; justify-content: flex-start; width: 100% }\n",
              "    .wandb-col { display: flex; flex-direction: column; flex-basis: 100%; flex: 1; padding: 10px; }\n",
              "    </style>\n",
              "<div class=\"wandb-row\"><div class=\"wandb-col\"><h3>Run history:</h3><br/><table class=\"wandb\"><tr><td>Acc</td><td>▁▅▇▆▆▇▇▇▇▆▇▇▇▇▇▇█▆▆▇▆▇▇▆▇▇▆▇▇▇▇▇▇▇▆█▇▇▆█</td></tr><tr><td>Epoch</td><td>▁▁▁▁▂▂▂▂▂▃▃▃▃▃▃▄▄▄▄▄▅▅▅▅▅▅▆▆▆▆▆▆▇▇▇▇▇███</td></tr><tr><td>Loss</td><td>█▁▁▁▁▁▁▁▁▁▁▁▁▁▁▁▁▁▁▁▁▁▁▁▁▁▁▁▁▁▁▁▁▁▁▁▁▁▁▁</td></tr></table><br/></div><div class=\"wandb-col\"><h3>Run summary:</h3><br/><table class=\"wandb\"><tr><td>Acc</td><td>0.725</td></tr><tr><td>Epoch</td><td>50</td></tr><tr><td>Loss</td><td>0.8345</td></tr></table><br/></div></div>"
            ]
          },
          "metadata": {}
        },
        {
          "output_type": "display_data",
          "data": {
            "text/plain": [
              "<IPython.core.display.HTML object>"
            ],
            "text/html": [
              " View run <strong style=\"color:#cdcd00\">vibrant-wood-4</strong> at: <a href='https://wandb.ai/balintgerinm/project_lab2_node2vec/runs/4j74kmtt' target=\"_blank\">https://wandb.ai/balintgerinm/project_lab2_node2vec/runs/4j74kmtt</a><br/>Synced 5 W&B file(s), 0 media file(s), 0 artifact file(s) and 0 other file(s)"
            ]
          },
          "metadata": {}
        },
        {
          "output_type": "display_data",
          "data": {
            "text/plain": [
              "<IPython.core.display.HTML object>"
            ],
            "text/html": [
              "Find logs at: <code>./wandb/run-20231117_005040-4j74kmtt/logs</code>"
            ]
          },
          "metadata": {}
        }
      ]
    },
    {
      "cell_type": "code",
      "source": [
        "colors = [ '#ffc0cb', '#bada55', '#008080', '#420420', '#7fe5f0', '#065535', '#ffd700' ]\n",
        "plot_points(colors)"
      ],
      "metadata": {
        "colab": {
          "base_uri": "https://localhost:8080/",
          "height": 829
        },
        "id": "jUhni4NVrpMM",
        "outputId": "880fbd55-3c36-4365-ce94-a289617d7445"
      },
      "execution_count": 8,
      "outputs": [
        {
          "output_type": "display_data",
          "data": {
            "text/plain": [
              "<Figure size 1000x1000 with 1 Axes>"
            ],
            "image/png": "[encoded data removed]"
          },
          "metadata": {}
        }
      ]
    },
    {
      "cell_type": "code",
      "source": [
        "import numpy as np\n",
        "import torch\n",
        "from torch_geometric.datasets import Planetoid\n",
        "from sklearn.metrics import roc_curve, roc_auc_score, auc\n",
        "import matplotlib.pyplot as plt\n",
        "\n",
        "# Planetoid adathalmaz betöltése\n",
        "dataset = Planetoid(root='./data', name='Cora')  # Használja a megfelelő adathalmaz nevet\n",
        "data = dataset[0]\n",
        "\n",
        "# Node2Vec modell beágyazások betöltése\n",
        "embeddings = model()\n",
        "embeddings = embeddings.cpu().detach().numpy()\n",
        "# Az éleket tartalmazó gráf előkészítése\n",
        "edge_index = data.edge_index\n",
        "\n",
        "# Gráf mérete\n",
        "num_nodes = data.num_nodes\n",
        "\n",
        "# Beágyazások közötti hasonlóság kiszámítása (példában koszinusz hasonlóság)\n",
        "similarity_matrix = np.dot(embeddings, embeddings.T)\n",
        "\n",
        "matrix_size = num_nodes\n",
        "matrix = np.zeros((matrix_size, matrix_size))\n",
        "for i,j in edge_index.T:\n",
        "  matrix[i,j] = 1\n",
        "\n",
        "predictions = similarity_matrix.flatten()\n",
        "#predictions = (predictions - np.min(predictions)) / (np.max(predictions) - np.min(predictions))\n",
        "originals  = matrix.flatten()\n"
      ],
      "metadata": {
        "id": "15cuxbV8hjN6"
      },
      "execution_count": 9,
      "outputs": []
    },
    {
      "cell_type": "code",
      "source": [
        "# ROC görbe számítása\n",
        "fpr, tpr, treshold = roc_curve(originals, predictions, pos_label=1)\n",
        "roc_auc = auc(fpr, tpr)\n",
        "\n",
        "# ROC görbe ábrázolása\n",
        "plt.figure(figsize=(6, 6))\n",
        "plt.plot(fpr, tpr, color='darkorange', lw=3, label=f'ROC curve (AUC = {roc_auc:.10f})')\n",
        "plt.plot([0, 1], [0, 1], color='navy', lw=3, linestyle='--', label='Random')\n",
        "plt.xlabel('False Positive Rate')\n",
        "plt.ylabel('True Positive Rate')\n",
        "plt.title('Receiver Operating Characteristic (ROC) Curve')\n",
        "plt.legend(loc='lower right')\n",
        "plt.savefig('ROC_curve.png')\n",
        "plt.show()"
      ],
      "metadata": {
        "colab": {
          "base_uri": "https://localhost:8080/",
          "height": 564
        },
        "id": "1v-8FAT_FzNb",
        "outputId": "1c52a550-68e7-4149-f823-ddaefea6566c"
      },
      "execution_count": 10,
      "outputs": [
        {
          "output_type": "display_data",
          "data": {
            "text/plain": [
              "<Figure size 600x600 with 1 Axes>"
            ],
            "image/png": "[encoded data removed]"
          },
          "metadata": {}
        }
      ]
    },
    {
      "cell_type": "code",
      "source": [
        "## Classifier using Linear Regression on Planetoid dataset"
      ],
      "metadata": {
        "id": "ByCh6sbrFfgd"
      },
      "execution_count": 11,
      "outputs": []
    },
    {
      "cell_type": "code",
      "source": [
        "# DATAFRAME\n",
        "X = embeddings\n",
        "y = dataset.y\n",
        "columns_X = [f'feature_{i}' for i in range(X.shape[1])]\n",
        "df_X = pd.DataFrame(X, columns=columns_X)\n",
        "\n",
        "# Add the 'y' column to the DataFrame\n",
        "df_X['class'] = y\n",
        "\n",
        "# Display the DataFrame\n",
        "df_X.head(5)"
      ],
      "metadata": {
        "colab": {
          "base_uri": "https://localhost:8080/",
          "height": 256
        },
        "id": "hVixVheq3AVS",
        "outputId": "3b00fc0b-8acf-4037-ee2e-a5e2523b8737"
      },
      "execution_count": 12,
      "outputs": [
        {
          "output_type": "execute_result",
          "data": {
            "text/plain": [
              "   feature_0  feature_1  feature_2  feature_3  feature_4  feature_5  \\\n",
              "0   0.213624   0.000780   0.014285   0.063183   0.190012   0.400352   \n",
              "1   0.076029   0.167611   0.131007  -0.310419  -0.447777   0.030344   \n",
              "2   0.465713   0.025725  -0.089461  -0.063961  -0.288958  -0.052631   \n",
              "3  -0.081816  -0.098170  -0.028336   0.163611   0.123508  -0.129555   \n",
              "4  -0.588159  -0.010994   0.238098   0.434553  -0.153618   0.197179   \n",
              "\n",
              "   feature_6  feature_7  feature_8  feature_9  ...  feature_119  feature_120  \\\n",
              "0   0.128818  -0.105393  -0.025099   0.134027  ...    -0.006960     0.088324   \n",
              "1   0.089000   0.224860   0.233574   0.034207  ...    -0.405406    -0.524218   \n",
              "2   0.099634   0.037679  -0.082564  -0.005136  ...    -0.537229    -0.280967   \n",
              "3   0.215510   0.159438  -1.137844   0.064050  ...     0.226703     0.175413   \n",
              "4  -0.314705   0.025826   0.126604  -0.194734  ...    -0.065900    -0.489054   \n",
              "\n",
              "   feature_121  feature_122  feature_123  feature_124  feature_125  \\\n",
              "0     0.040890     0.060941    -0.053067     0.024269     0.398327   \n",
              "1    -0.115470     0.095629    -0.212316    -0.133905     0.175678   \n",
              "2    -0.151234     0.064363    -0.088893     0.071084     0.157298   \n",
              "3     0.057381     0.247747    -0.007106    -0.021684    -0.044284   \n",
              "4     0.059441    -0.077273     0.227090    -0.175016     0.031761   \n",
              "\n",
              "   feature_126  feature_127  class  \n",
              "0     0.215717     0.055752      3  \n",
              "1    -0.108445    -0.235131      4  \n",
              "2    -0.202626    -0.227701      4  \n",
              "3    -0.040645    -0.009900      0  \n",
              "4     0.118482    -0.031260      3  \n",
              "\n",
              "[5 rows x 129 columns]"
            ],
            "text/html": [
              "\n",
              "  <div id=\"df-ff05630d-e243-4891-9b6e-a0d9603da480\" class=\"colab-df-container\">\n",
              "    <div>\n",
              "<style scoped>\n",
              "    .dataframe tbody tr th:only-of-type {\n",
              "        vertical-align: middle;\n",
              "    }\n",
              "\n",
              "    .dataframe tbody tr th {\n",
              "        vertical-align: top;\n",
              "    }\n",
              "\n",
              "    .dataframe thead th {\n",
              "        text-align: right;\n",
              "    }\n",
              "</style>\n",
              "<table border=\"1\" class=\"dataframe\">\n",
              "  <thead>\n",
              "    <tr style=\"text-align: right;\">\n",
              "      <th></th>\n",
              "      <th>feature_0</th>\n",
              "      <th>feature_1</th>\n",
              "      <th>feature_2</th>\n",
              "      <th>feature_3</th>\n",
              "      <th>feature_4</th>\n",
              "      <th>feature_5</th>\n",
              "      <th>feature_6</th>\n",
              "      <th>feature_7</th>\n",
              "      <th>feature_8</th>\n",
              "      <th>feature_9</th>\n",
              "      <th>...</th>\n",
              "      <th>feature_119</th>\n",
              "      <th>feature_120</th>\n",
              "      <th>feature_121</th>\n",
              "      <th>feature_122</th>\n",
              "      <th>feature_123</th>\n",
              "      <th>feature_124</th>\n",
              "      <th>feature_125</th>\n",
              "      <th>feature_126</th>\n",
              "      <th>feature_127</th>\n",
              "      <th>class</th>\n",
              "    </tr>\n",
              "  </thead>\n",
              "  <tbody>\n",
              "    <tr>\n",
              "      <th>0</th>\n",
              "      <td>0.213624</td>\n",
              "      <td>0.000780</td>\n",
              "      <td>0.014285</td>\n",
              "      <td>0.063183</td>\n",
              "      <td>0.190012</td>\n",
              "      <td>0.400352</td>\n",
              "      <td>0.128818</td>\n",
              "      <td>-0.105393</td>\n",
              "      <td>-0.025099</td>\n",
              "      <td>0.134027</td>\n",
              "      <td>...</td>\n",
              "      <td>-0.006960</td>\n",
              "      <td>0.088324</td>\n",
              "      <td>0.040890</td>\n",
              "      <td>0.060941</td>\n",
              "      <td>-0.053067</td>\n",
              "      <td>0.024269</td>\n",
              "      <td>0.398327</td>\n",
              "      <td>0.215717</td>\n",
              "      <td>0.055752</td>\n",
              "      <td>3</td>\n",
              "    </tr>\n",
              "    <tr>\n",
              "      <th>1</th>\n",
              "      <td>0.076029</td>\n",
              "      <td>0.167611</td>\n",
              "      <td>0.131007</td>\n",
              "      <td>-0.310419</td>\n",
              "      <td>-0.447777</td>\n",
              "      <td>0.030344</td>\n",
              "      <td>0.089000</td>\n",
              "      <td>0.224860</td>\n",
              "      <td>0.233574</td>\n",
              "      <td>0.034207</td>\n",
              "      <td>...</td>\n",
              "      <td>-0.405406</td>\n",
              "      <td>-0.524218</td>\n",
              "      <td>-0.115470</td>\n",
              "      <td>0.095629</td>\n",
              "      <td>-0.212316</td>\n",
              "      <td>-0.133905</td>\n",
              "      <td>0.175678</td>\n",
              "      <td>-0.108445</td>\n",
              "      <td>-0.235131</td>\n",
              "      <td>4</td>\n",
              "    </tr>\n",
              "    <tr>\n",
              "      <th>2</th>\n",
              "      <td>0.465713</td>\n",
              "      <td>0.025725</td>\n",
              "      <td>-0.089461</td>\n",
              "      <td>-0.063961</td>\n",
              "      <td>-0.288958</td>\n",
              "      <td>-0.052631</td>\n",
              "      <td>0.099634</td>\n",
              "      <td>0.037679</td>\n",
              "      <td>-0.082564</td>\n",
              "      <td>-0.005136</td>\n",
              "      <td>...</td>\n",
              "      <td>-0.537229</td>\n",
              "      <td>-0.280967</td>\n",
              "      <td>-0.151234</td>\n",
              "      <td>0.064363</td>\n",
              "      <td>-0.088893</td>\n",
              "      <td>0.071084</td>\n",
              "      <td>0.157298</td>\n",
              "      <td>-0.202626</td>\n",
              "      <td>-0.227701</td>\n",
              "      <td>4</td>\n",
              "    </tr>\n",
              "    <tr>\n",
              "      <th>3</th>\n",
              "      <td>-0.081816</td>\n",
              "      <td>-0.098170</td>\n",
              "      <td>-0.028336</td>\n",
              "      <td>0.163611</td>\n",
              "      <td>0.123508</td>\n",
              "      <td>-0.129555</td>\n",
              "      <td>0.215510</td>\n",
              "      <td>0.159438</td>\n",
              "      <td>-1.137844</td>\n",
              "      <td>0.064050</td>\n",
              "      <td>...</td>\n",
              "      <td>0.226703</td>\n",
              "      <td>0.175413</td>\n",
              "      <td>0.057381</td>\n",
              "      <td>0.247747</td>\n",
              "      <td>-0.007106</td>\n",
              "      <td>-0.021684</td>\n",
              "      <td>-0.044284</td>\n",
              "      <td>-0.040645</td>\n",
              "      <td>-0.009900</td>\n",
              "      <td>0</td>\n",
              "    </tr>\n",
              "    <tr>\n",
              "      <th>4</th>\n",
              "      <td>-0.588159</td>\n",
              "      <td>-0.010994</td>\n",
              "      <td>0.238098</td>\n",
              "      <td>0.434553</td>\n",
              "      <td>-0.153618</td>\n",
              "      <td>0.197179</td>\n",
              "      <td>-0.314705</td>\n",
              "      <td>0.025826</td>\n",
              "      <td>0.126604</td>\n",
              "      <td>-0.194734</td>\n",
              "      <td>...</td>\n",
              "      <td>-0.065900</td>\n",
              "      <td>-0.489054</td>\n",
              "      <td>0.059441</td>\n",
              "      <td>-0.077273</td>\n",
              "      <td>0.227090</td>\n",
              "      <td>-0.175016</td>\n",
              "      <td>0.031761</td>\n",
              "      <td>0.118482</td>\n",
              "      <td>-0.031260</td>\n",
              "      <td>3</td>\n",
              "    </tr>\n",
              "  </tbody>\n",
              "</table>\n",
              "<p>5 rows × 129 columns</p>\n",
              "</div>\n",
              "    <div class=\"colab-df-buttons\">\n",
              "\n",
              "  <div class=\"colab-df-container\">\n",
              "    <button class=\"colab-df-convert\" onclick=\"convertToInteractive('df-ff05630d-e243-4891-9b6e-a0d9603da480')\"\n",
              "            title=\"Convert this dataframe to an interactive table.\"\n",
              "            style=\"display:none;\">\n",
              "\n",
              "  <svg xmlns=\"http://www.w3.org/2000/svg\" height=\"24px\" viewBox=\"0 -960 960 960\">\n",
              "    <path d=\"M120-120v-720h720v720H120Zm60-500h600v-160H180v160Zm220 220h160v-160H400v160Zm0 220h160v-160H400v160ZM180-400h160v-160H180v160Zm440 0h160v-160H620v160ZM180-180h160v-160H180v160Zm440 0h160v-160H620v160Z\"/>\n",
              "  </svg>\n",
              "    </button>\n",
              "\n",
              "  <style>\n",
              "    .colab-df-container {\n",
              "      display:flex;\n",
              "      gap: 12px;\n",
              "    }\n",
              "\n",
              "    .colab-df-convert {\n",
              "      background-color: #E8F0FE;\n",
              "      border: none;\n",
              "      border-radius: 50%;\n",
              "      cursor: pointer;\n",
              "      display: none;\n",
              "      fill: #1967D2;\n",
              "      height: 32px;\n",
              "      padding: 0 0 0 0;\n",
              "      width: 32px;\n",
              "    }\n",
              "\n",
              "    .colab-df-convert:hover {\n",
              "      background-color: #E2EBFA;\n",
              "      box-shadow: 0px 1px 2px rgba(60, 64, 67, 0.3), 0px 1px 3px 1px rgba(60, 64, 67, 0.15);\n",
              "      fill: #174EA6;\n",
              "    }\n",
              "\n",
              "    .colab-df-buttons div {\n",
              "      margin-bottom: 4px;\n",
              "    }\n",
              "\n",
              "    [theme=dark] .colab-df-convert {\n",
              "      background-color: #3B4455;\n",
              "      fill: #D2E3FC;\n",
              "    }\n",
              "\n",
              "    [theme=dark] .colab-df-convert:hover {\n",
              "      background-color: #434B5C;\n",
              "      box-shadow: 0px 1px 3px 1px rgba(0, 0, 0, 0.15);\n",
              "      filter: drop-shadow(0px 1px 2px rgba(0, 0, 0, 0.3));\n",
              "      fill: #FFFFFF;\n",
              "    }\n",
              "  </style>\n",
              "\n",
              "    <script>\n",
              "      const buttonEl =\n",
              "        document.querySelector('#df-ff05630d-e243-4891-9b6e-a0d9603da480 button.colab-df-convert');\n",
              "      buttonEl.style.display =\n",
              "        google.colab.kernel.accessAllowed ? 'block' : 'none';\n",
              "\n",
              "      async function convertToInteractive(key) {\n",
              "        const element = document.querySelector('#df-ff05630d-e243-4891-9b6e-a0d9603da480');\n",
              "        const dataTable =\n",
              "          await google.colab.kernel.invokeFunction('convertToInteractive',\n",
              "                                                    [key], {});\n",
              "        if (!dataTable) return;\n",
              "\n",
              "        const docLinkHtml = 'Like what you see? Visit the ' +\n",
              "          '<a target=\"_blank\" href=https://colab.research.google.com/notebooks/data_table.ipynb>data table notebook</a>'\n",
              "          + ' to learn more about interactive tables.';\n",
              "        element.innerHTML = '';\n",
              "        dataTable['output_type'] = 'display_data';\n",
              "        await google.colab.output.renderOutput(dataTable, element);\n",
              "        const docLink = document.createElement('div');\n",
              "        docLink.innerHTML = docLinkHtml;\n",
              "        element.appendChild(docLink);\n",
              "      }\n",
              "    </script>\n",
              "  </div>\n",
              "\n",
              "\n",
              "<div id=\"df-6de34b51-4bbe-439d-8cb3-54fddb21e4a7\">\n",
              "  <button class=\"colab-df-quickchart\" onclick=\"quickchart('df-6de34b51-4bbe-439d-8cb3-54fddb21e4a7')\"\n",
              "            title=\"Suggest charts\"\n",
              "            style=\"display:none;\">\n",
              "\n",
              "<svg xmlns=\"http://www.w3.org/2000/svg\" height=\"24px\"viewBox=\"0 0 24 24\"\n",
              "     width=\"24px\">\n",
              "    <g>\n",
              "        <path d=\"M19 3H5c-1.1 0-2 .9-2 2v14c0 1.1.9 2 2 2h14c1.1 0 2-.9 2-2V5c0-1.1-.9-2-2-2zM9 17H7v-7h2v7zm4 0h-2V7h2v10zm4 0h-2v-4h2v4z\"/>\n",
              "    </g>\n",
              "</svg>\n",
              "  </button>\n",
              "\n",
              "<style>\n",
              "  .colab-df-quickchart {\n",
              "      --bg-color: #E8F0FE;\n",
              "      --fill-color: #1967D2;\n",
              "      --hover-bg-color: #E2EBFA;\n",
              "      --hover-fill-color: #174EA6;\n",
              "      --disabled-fill-color: #AAA;\n",
              "      --disabled-bg-color: #DDD;\n",
              "  }\n",
              "\n",
              "  [theme=dark] .colab-df-quickchart {\n",
              "      --bg-color: #3B4455;\n",
              "      --fill-color: #D2E3FC;\n",
              "      --hover-bg-color: #434B5C;\n",
              "      --hover-fill-color: #FFFFFF;\n",
              "      --disabled-bg-color: #3B4455;\n",
              "      --disabled-fill-color: #666;\n",
              "  }\n",
              "\n",
              "  .colab-df-quickchart {\n",
              "    background-color: var(--bg-color);\n",
              "    border: none;\n",
              "    border-radius: 50%;\n",
              "    cursor: pointer;\n",
              "    display: none;\n",
              "    fill: var(--fill-color);\n",
              "    height: 32px;\n",
              "    padding: 0;\n",
              "    width: 32px;\n",
              "  }\n",
              "\n",
              "  .colab-df-quickchart:hover {\n",
              "    background-color: var(--hover-bg-color);\n",
              "    box-shadow: 0 1px 2px rgba(60, 64, 67, 0.3), 0 1px 3px 1px rgba(60, 64, 67, 0.15);\n",
              "    fill: var(--button-hover-fill-color);\n",
              "  }\n",
              "\n",
              "  .colab-df-quickchart-complete:disabled,\n",
              "  .colab-df-quickchart-complete:disabled:hover {\n",
              "    background-color: var(--disabled-bg-color);\n",
              "    fill: var(--disabled-fill-color);\n",
              "    box-shadow: none;\n",
              "  }\n",
              "\n",
              "  .colab-df-spinner {\n",
              "    border: 2px solid var(--fill-color);\n",
              "    border-color: transparent;\n",
              "    border-bottom-color: var(--fill-color);\n",
              "    animation:\n",
              "      spin 1s steps(1) infinite;\n",
              "  }\n",
              "\n",
              "  @keyframes spin {\n",
              "    0% {\n",
              "      border-color: transparent;\n",
              "      border-bottom-color: var(--fill-color);\n",
              "      border-left-color: var(--fill-color);\n",
              "    }\n",
              "    20% {\n",
              "      border-color: transparent;\n",
              "      border-left-color: var(--fill-color);\n",
              "      border-top-color: var(--fill-color);\n",
              "    }\n",
              "    30% {\n",
              "      border-color: transparent;\n",
              "      border-left-color: var(--fill-color);\n",
              "      border-top-color: var(--fill-color);\n",
              "      border-right-color: var(--fill-color);\n",
              "    }\n",
              "    40% {\n",
              "      border-color: transparent;\n",
              "      border-right-color: var(--fill-color);\n",
              "      border-top-color: var(--fill-color);\n",
              "    }\n",
              "    60% {\n",
              "      border-color: transparent;\n",
              "      border-right-color: var(--fill-color);\n",
              "    }\n",
              "    80% {\n",
              "      border-color: transparent;\n",
              "      border-right-color: var(--fill-color);\n",
              "      border-bottom-color: var(--fill-color);\n",
              "    }\n",
              "    90% {\n",
              "      border-color: transparent;\n",
              "      border-bottom-color: var(--fill-color);\n",
              "    }\n",
              "  }\n",
              "</style>\n",
              "\n",
              "  <script>\n",
              "    async function quickchart(key) {\n",
              "      const quickchartButtonEl =\n",
              "        document.querySelector('#' + key + ' button');\n",
              "      quickchartButtonEl.disabled = true;  // To prevent multiple clicks.\n",
              "      quickchartButtonEl.classList.add('colab-df-spinner');\n",
              "      try {\n",
              "        const charts = await google.colab.kernel.invokeFunction(\n",
              "            'suggestCharts', [key], {});\n",
              "      } catch (error) {\n",
              "        console.error('Error during call to suggestCharts:', error);\n",
              "      }\n",
              "      quickchartButtonEl.classList.remove('colab-df-spinner');\n",
              "      quickchartButtonEl.classList.add('colab-df-quickchart-complete');\n",
              "    }\n",
              "    (() => {\n",
              "      let quickchartButtonEl =\n",
              "        document.querySelector('#df-6de34b51-4bbe-439d-8cb3-54fddb21e4a7 button');\n",
              "      quickchartButtonEl.style.display =\n",
              "        google.colab.kernel.accessAllowed ? 'block' : 'none';\n",
              "    })();\n",
              "  </script>\n",
              "</div>\n",
              "    </div>\n",
              "  </div>\n"
            ]
          },
          "metadata": {},
          "execution_count": 12
        }
      ]
    },
    {
      "cell_type": "code",
      "source": [
        "df_X['class'].value_counts()"
      ],
      "metadata": {
        "colab": {
          "base_uri": "https://localhost:8080/"
        },
        "id": "yzhImniT4dc7",
        "outputId": "9677145f-6007-4e61-e888-a17e3632769e"
      },
      "execution_count": 13,
      "outputs": [
        {
          "output_type": "execute_result",
          "data": {
            "text/plain": [
              "3    818\n",
              "4    426\n",
              "2    418\n",
              "0    351\n",
              "5    298\n",
              "1    217\n",
              "6    180\n",
              "Name: class, dtype: int64"
            ]
          },
          "metadata": {},
          "execution_count": 13
        }
      ]
    },
    {
      "cell_type": "code",
      "source": [
        "from sklearn.model_selection import KFold\n",
        "from sklearn.linear_model import LinearRegression\n",
        "from sklearn.model_selection import cross_val_score, KFold\n",
        "from sklearn.preprocessing import StandardScaler\n",
        "\n",
        "X = df_X.drop('class', axis=1)\n",
        "y = df_X['class']\n",
        "\n",
        "df_columns = X.columns\n",
        "scaler = StandardScaler()\n",
        "df = scaler.fit_transform(X)\n",
        "X = pd.DataFrame(df)\n",
        "X.columns = df_columns\n",
        "\n",
        "# Create a linear regression model\n",
        "model = LinearRegression()\n",
        "\n",
        "# Specify the number of folds for cross-validation\n",
        "num_folds = 5\n",
        "kf = KFold(n_splits=num_folds, shuffle=True, random_state=42)\n",
        "\n",
        "# Perform cross-validation\n",
        "cross_val_scores = cross_val_score(model, X, y, cv=kf, scoring='r2')  # You can use other scoring metrics\n",
        "\n",
        "# Display the cross-validation scores\n",
        "print(\"Cross-Validation Scores:\", cross_val_scores)\n",
        "print(\"Mean R^2:\", np.mean(cross_val_scores))"
      ],
      "metadata": {
        "colab": {
          "base_uri": "https://localhost:8080/"
        },
        "id": "j_5COhrS5UuL",
        "outputId": "b4f17b0c-d2b7-4367-f3ea-680860fbf024"
      },
      "execution_count": 14,
      "outputs": [
        {
          "output_type": "stream",
          "name": "stdout",
          "text": [
            "Cross-Validation Scores: [0.45860282 0.49947004 0.48288435 0.43005325 0.48576151]\n",
            "Mean R^2: 0.47135439571970766\n"
          ]
        }
      ]
    },
    {
      "cell_type": "code",
      "source": [
        "from sklearn.metrics import confusion_matrix, f1_score, accuracy_score\n",
        "from sklearn.model_selection import train_test_split\n",
        "from sklearn.linear_model import LinearRegression\n",
        "from sklearn.linear_model import LogisticRegression\n",
        "\n",
        "# Split the data into training and testing sets\n",
        "X_train, X_test, y_train, y_test = train_test_split(X, y, test_size=0.2, random_state=42)\n",
        "\n",
        "# Create and train the Linear Regression model\n",
        "model = LogisticRegression()\n",
        "model.fit(X_train, y_train)\n",
        "\n",
        "# Make predictions on the test set\n",
        "y_pred = model.predict(X_test)\n",
        "\n",
        "# Compute the confusion matrix\n",
        "conf_matrix = confusion_matrix(y_test, y_pred)\n",
        "\n",
        "# Compute F1 score (micro and macro)\n",
        "f1_micro = f1_score(y_test, y_pred, average='micro')\n",
        "f1_macro = f1_score(y_test, y_pred, average='macro')\n",
        "\n",
        "# Compute accuracy\n",
        "accuracy = accuracy_score(y_test, y_pred)\n",
        "\n",
        "# Display the results\n",
        "print(\"Confusion Matrix:\")\n",
        "print(conf_matrix)\n",
        "print(\"\\nF1 Score (Micro):\", f1_micro)\n",
        "print(\"F1 Score (Macro):\", f1_macro)\n",
        "print(\"Accuracy:\", accuracy)\n"
      ],
      "metadata": {
        "colab": {
          "base_uri": "https://localhost:8080/"
        },
        "id": "mjIJyqtQclmY",
        "outputId": "a450c04a-33d0-4486-c317-13cff8415097"
      },
      "execution_count": 15,
      "outputs": [
        {
          "output_type": "stream",
          "name": "stdout",
          "text": [
            "Confusion Matrix:\n",
            "[[ 53   1   0   8   4   3   6]\n",
            " [  3  31   5   2   2   3   0]\n",
            " [  0   1  71   4   0   2   2]\n",
            " [  9  10   5 148  11   5   3]\n",
            " [  4   1   1  11  56   2   1]\n",
            " [  5   0   0   4   3  29   3]\n",
            " [  2   1   1   2   1   2  21]]\n",
            "\n",
            "F1 Score (Micro): 0.7546125461254612\n",
            "F1 Score (Macro): 0.7239007578651826\n",
            "Accuracy: 0.7546125461254612\n"
          ]
        }
      ]
    },
    {
      "cell_type": "code",
      "source": [
        "with open(\"results.txt\", \"w\") as file:\n",
        "  file.write(\"Parameters:\\n\")\n",
        "\n",
        "  file.write(f\"P= {p}\\n\")\n",
        "  file.write(f\"Q= {q}\\n\")\n",
        "  file.write(f\"Embedding Dimension= {embedding_dim}\\n\")\n",
        "  file.write(f\"Walk Length= {walk_length}\\n\")\n",
        "  file.write(f\"Context Size= {context_size}\\n\")\n",
        "  file.write(f\"Walks Per Node= {walks_per_node}\\n\")\n",
        "  file.write(f\"Learning Rate= {lr}\\n\")\n",
        "  file.write(f\"Batch Size= {batch_size}\\n\")\n",
        "  file.write(\"\\n\")\n",
        "  file.write(\"Results:\\n\")\n",
        "  file.write(\"\\n\")\n",
        "  file.write(\"Link Prediction:\\n\")\n",
        "  file.write(f\"ROC-AUC score= {roc_auc}\\n\")\n",
        "  file.write(\"\\n\")\n",
        "  file.write(\"Node Classification with Logistic Regression:\\n\")\n",
        "  file.write(f\"F1 Score (Micro)= {f1_micro}\\n\")\n",
        "  file.write(f\"F1 Score (Macro)= {f1_macro}\\n\")\n",
        "  file.write(f\"Accuracy= {accuracy}\\n\")"
      ],
      "metadata": {
        "id": "irQT2OY4qzl7"
      },
      "execution_count": 16,
      "outputs": []
    },
    {
      "cell_type": "code",
      "source": [
        "import seaborn as sn\n",
        "df_cm = pd.DataFrame(conf_matrix, index = [i for i in range(len(conf_matrix[0]))],\n",
        "                  columns = [i for i in range(len(conf_matrix[0]))])\n",
        "\n",
        "plt.figure(figsize = (8,6))\n",
        "plt.title(\"Classification Heatmap\")\n",
        "sn.heatmap(df_cm, annot=True,fmt=\".0f\",linewidth=.5, cmap=\"crest\")\n",
        "plt.savefig(\"heatmap.png\")\n",
        "plt.show()"
      ],
      "metadata": {
        "colab": {
          "base_uri": "https://localhost:8080/",
          "height": 545
        },
        "id": "dlsW1FxMmGws",
        "outputId": "c3e27bfc-1398-46a4-e684-7786c598b685"
      },
      "execution_count": 17,
      "outputs": [
        {
          "output_type": "display_data",
          "data": {
            "text/plain": [
              "<Figure size 800x600 with 2 Axes>"
            ],
            "image/png": "[encoded data removed]"
          },
          "metadata": {}
        }
      ]
    }
  ]
}